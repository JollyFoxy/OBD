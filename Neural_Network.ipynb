{
  "cells": [
    {
      "cell_type": "markdown",
      "metadata": {
        "id": "view-in-github",
        "colab_type": "text"
      },
      "source": [
        "<a href=\"https://colab.research.google.com/github/JollyFoxy/OBD/blob/main/Neural_Network.ipynb\" target=\"_parent\"><img src=\"https://colab.research.google.com/assets/colab-badge.svg\" alt=\"Open In Colab\"/></a>"
      ]
    },
    {
      "cell_type": "markdown",
      "metadata": {
        "id": "OeDbKygv-feG"
      },
      "source": [
        "# Нейронная сеть с несколькими слоями"
      ]
    },
    {
      "cell_type": "markdown",
      "metadata": {
        "id": "snsxw8wd-feJ"
      },
      "source": [
        "## Подключаем библиотеки"
      ]
    },
    {
      "cell_type": "code",
      "execution_count": 4,
      "metadata": {
        "id": "kahzpX2C-feK"
      },
      "outputs": [],
      "source": [
        "import numpy as np\n",
        "import matplotlib.pyplot as plt\n",
        "import pandas as pd\n",
        "%matplotlib inline"
      ]
    },
    {
      "cell_type": "code",
      "source": [
        "from google.colab import drive\n",
        "drive.mount('/content/drive')"
      ],
      "metadata": {
        "id": "kyZH-zNzBLjS"
      },
      "execution_count": null,
      "outputs": []
    },
    {
      "cell_type": "markdown",
      "metadata": {
        "id": "9BvPeVZ--feL"
      },
      "source": [
        "## Загружаем данные"
      ]
    },
    {
      "cell_type": "code",
      "execution_count": 5,
      "metadata": {
        "id": "kowbma5z-feL"
      },
      "outputs": [],
      "source": [
        "dataset = pd.read_csv('data.csv')\n",
        "X = dataset.iloc[:,3:13].values\n",
        "y = dataset.iloc[:,13].values"
      ]
    },
    {
      "cell_type": "code",
      "execution_count": 6,
      "metadata": {
        "colab": {
          "base_uri": "https://localhost:8080/"
        },
        "id": "JnGqWmpN-feL",
        "outputId": "100409f2-4153-4d55-ccfe-648fbb818e36"
      },
      "outputs": [
        {
          "output_type": "execute_result",
          "data": {
            "text/plain": [
              "array([[619, 'France', 'Female', ..., 1, 1, 101348.88],\n",
              "       [608, 'Spain', 'Female', ..., 0, 1, 112542.58],\n",
              "       [502, 'France', 'Female', ..., 1, 0, 113931.57],\n",
              "       ...,\n",
              "       [709, 'France', 'Female', ..., 0, 1, 42085.58],\n",
              "       [772, 'Germany', 'Male', ..., 1, 0, 92888.52],\n",
              "       [792, 'France', 'Female', ..., 1, 0, 38190.78]], dtype=object)"
            ]
          },
          "metadata": {},
          "execution_count": 6
        }
      ],
      "source": [
        "X"
      ]
    },
    {
      "cell_type": "code",
      "execution_count": 7,
      "metadata": {
        "colab": {
          "base_uri": "https://localhost:8080/"
        },
        "id": "YXNSqrTC-feM",
        "outputId": "351318b8-e39d-4fd7-b808-163f26c979c2"
      },
      "outputs": [
        {
          "output_type": "execute_result",
          "data": {
            "text/plain": [
              "array([1, 0, 1, ..., 1, 1, 0])"
            ]
          },
          "metadata": {},
          "execution_count": 7
        }
      ],
      "source": [
        "y"
      ]
    },
    {
      "cell_type": "markdown",
      "metadata": {
        "id": "13ZWiifG-feN"
      },
      "source": [
        "## Кодируем категорийные данные"
      ]
    },
    {
      "cell_type": "code",
      "source": [
        "!pip install OneHotEncoder"
      ],
      "metadata": {
        "colab": {
          "base_uri": "https://localhost:8080/"
        },
        "id": "Kt-04rC9-vxJ",
        "outputId": "439601e9-c766-4d9c-b3ee-9cab6a5d56a7"
      },
      "execution_count": 8,
      "outputs": [
        {
          "output_type": "stream",
          "name": "stdout",
          "text": [
            "\u001b[31mERROR: Could not find a version that satisfies the requirement OneHotEncoder (from versions: none)\u001b[0m\n",
            "\u001b[31mERROR: No matching distribution found for OneHotEncoder\u001b[0m\n"
          ]
        }
      ]
    },
    {
      "cell_type": "code",
      "execution_count": 9,
      "metadata": {
        "id": "V0h0xlm--feN"
      },
      "outputs": [],
      "source": [
        "from sklearn.preprocessing import LabelEncoder, OneHotEncoder\n",
        "from sklearn.compose import ColumnTransformer"
      ]
    },
    {
      "cell_type": "code",
      "execution_count": 10,
      "metadata": {
        "id": "IMIeWaYT-feO"
      },
      "outputs": [],
      "source": [
        "labelencoder_X_1 = LabelEncoder()\n",
        "X[:, 1] = labelencoder_X_1.fit_transform(X[:, 1])\n",
        "\n",
        "labelencoder_X_2 = LabelEncoder()\n",
        "X[:, 2] = labelencoder_X_2.fit_transform(X[:, 2])\n",
        "\n",
        "#onehotencoder = OneHotEncoder(categorical_features = [1]) Not this one\n",
        "\n",
        "# use this instead\n",
        "ct = ColumnTransformer([(\"Country\", OneHotEncoder(), [1])], remainder = 'passthrough')\n",
        "\n",
        "X = ct.fit_transform(X)\n",
        "X = X[:, 1:]"
      ]
    },
    {
      "cell_type": "code",
      "execution_count": 11,
      "metadata": {
        "colab": {
          "base_uri": "https://localhost:8080/"
        },
        "id": "OVPe4_DI-feO",
        "outputId": "1b5be8f3-a9ad-45f0-a79e-a5b1ac9d727d"
      },
      "outputs": [
        {
          "output_type": "execute_result",
          "data": {
            "text/plain": [
              "(10000, 11)"
            ]
          },
          "metadata": {},
          "execution_count": 11
        }
      ],
      "source": [
        "X.shape"
      ]
    },
    {
      "cell_type": "code",
      "execution_count": 12,
      "metadata": {
        "colab": {
          "base_uri": "https://localhost:8080/"
        },
        "id": "IG4A5Cyb-feO",
        "outputId": "125833b2-96ff-4bd9-9439-1cff7c20143f"
      },
      "outputs": [
        {
          "output_type": "execute_result",
          "data": {
            "text/plain": [
              "array([1, 0, 1, ..., 1, 1, 0])"
            ]
          },
          "metadata": {},
          "execution_count": 12
        }
      ],
      "source": [
        "y"
      ]
    },
    {
      "cell_type": "markdown",
      "metadata": {
        "id": "dPl7SmYs-feP"
      },
      "source": [
        "## Разбиваем на обучающую и тестовую выборки"
      ]
    },
    {
      "cell_type": "code",
      "execution_count": 13,
      "metadata": {
        "id": "msl4EHbR-feP"
      },
      "outputs": [],
      "source": [
        "from sklearn.model_selection import train_test_split\n",
        "X_train, X_test, y_train, y_test = train_test_split(X,y,test_size = 0.2, random_state = 0)"
      ]
    },
    {
      "cell_type": "code",
      "execution_count": 14,
      "metadata": {
        "id": "ynb60Zmv-feP"
      },
      "outputs": [],
      "source": [
        "from sklearn.preprocessing import StandardScaler\n",
        "sc = StandardScaler()\n",
        "X_train = sc.fit_transform(X_train)\n",
        "X_test = sc.transform(X_test)"
      ]
    },
    {
      "cell_type": "markdown",
      "metadata": {
        "id": "h3LHPFwZ-feQ"
      },
      "source": [
        "## Импортируем модуль keras"
      ]
    },
    {
      "cell_type": "code",
      "execution_count": 15,
      "metadata": {
        "id": "r7miDzH6-feQ"
      },
      "outputs": [],
      "source": [
        "import tensorflow\n",
        "from tensorflow.keras.models import Sequential\n",
        "from tensorflow.keras.layers import Dense"
      ]
    },
    {
      "cell_type": "markdown",
      "metadata": {
        "id": "52UzWJle-feQ"
      },
      "source": [
        "## Инициализация нейронной сети "
      ]
    },
    {
      "cell_type": "code",
      "execution_count": 16,
      "metadata": {
        "id": "-8_4z6iB-feQ"
      },
      "outputs": [],
      "source": [
        "classifier = Sequential()"
      ]
    },
    {
      "cell_type": "markdown",
      "metadata": {
        "id": "97MUM-Mb-feQ"
      },
      "source": [
        "## Добавляем входной слой и первый скрытый слой"
      ]
    },
    {
      "cell_type": "code",
      "execution_count": 17,
      "metadata": {
        "id": "hvDVQIL--feR"
      },
      "outputs": [],
      "source": [
        "classifier.add(Dense(units = 6, activation ='relu', input_dim = 11, kernel_initializer = 'uniform'))"
      ]
    },
    {
      "cell_type": "markdown",
      "metadata": {
        "id": "zEm72Dmh-feR"
      },
      "source": [
        "## Второй скрытый слой"
      ]
    },
    {
      "cell_type": "code",
      "execution_count": 18,
      "metadata": {
        "id": "8q1-QuP6-feR"
      },
      "outputs": [],
      "source": [
        "classifier.add(Dense(units = 6, activation = 'relu', kernel_initializer = 'uniform'))"
      ]
    },
    {
      "cell_type": "markdown",
      "metadata": {
        "id": "ueq2uYpa-feR"
      },
      "source": [
        "## Выходной слой"
      ]
    },
    {
      "cell_type": "code",
      "execution_count": 19,
      "metadata": {
        "id": "Bk7PpZ2V-feR"
      },
      "outputs": [],
      "source": [
        "classifier.add(Dense(units = 1, activation = 'sigmoid', kernel_initializer = 'uniform'))"
      ]
    },
    {
      "cell_type": "markdown",
      "metadata": {
        "id": "yAJvdgaO-feR"
      },
      "source": [
        "## Компилируем нейронную сеть"
      ]
    },
    {
      "cell_type": "code",
      "execution_count": 20,
      "metadata": {
        "id": "1q2fEveJ-feS"
      },
      "outputs": [],
      "source": [
        "classifier.compile(optimizer = 'adam', loss = 'binary_crossentropy', metrics = ['accuracy'])"
      ]
    },
    {
      "cell_type": "markdown",
      "metadata": {
        "id": "zLvbpZUi-feS"
      },
      "source": [
        "## Применяем к тренировочной выборке"
      ]
    },
    {
      "cell_type": "code",
      "execution_count": 21,
      "metadata": {
        "colab": {
          "base_uri": "https://localhost:8080/"
        },
        "id": "0VLMRlh1-feS",
        "outputId": "0c5c76ea-6654-4869-e12d-ecb96320b757"
      },
      "outputs": [
        {
          "output_type": "stream",
          "name": "stdout",
          "text": [
            "Epoch 1/100\n",
            "800/800 [==============================] - 1s 1ms/step - loss: 0.4915 - accuracy: 0.7951\n",
            "Epoch 2/100\n",
            "800/800 [==============================] - 1s 1ms/step - loss: 0.4272 - accuracy: 0.7960\n",
            "Epoch 3/100\n",
            "800/800 [==============================] - 1s 976us/step - loss: 0.4201 - accuracy: 0.8145\n",
            "Epoch 4/100\n",
            "800/800 [==============================] - 1s 985us/step - loss: 0.4135 - accuracy: 0.8319\n",
            "Epoch 5/100\n",
            "800/800 [==============================] - 1s 1ms/step - loss: 0.4091 - accuracy: 0.8339\n",
            "Epoch 6/100\n",
            "800/800 [==============================] - 2s 2ms/step - loss: 0.4058 - accuracy: 0.8345\n",
            "Epoch 7/100\n",
            "800/800 [==============================] - 2s 2ms/step - loss: 0.4044 - accuracy: 0.8332\n",
            "Epoch 8/100\n",
            "800/800 [==============================] - 2s 2ms/step - loss: 0.4028 - accuracy: 0.8340\n",
            "Epoch 9/100\n",
            "800/800 [==============================] - 2s 2ms/step - loss: 0.4022 - accuracy: 0.8340\n",
            "Epoch 10/100\n",
            "800/800 [==============================] - 2s 2ms/step - loss: 0.4016 - accuracy: 0.8363\n",
            "Epoch 11/100\n",
            "800/800 [==============================] - 2s 3ms/step - loss: 0.4007 - accuracy: 0.8346\n",
            "Epoch 12/100\n",
            "800/800 [==============================] - 2s 2ms/step - loss: 0.4006 - accuracy: 0.8361\n",
            "Epoch 13/100\n",
            "800/800 [==============================] - 2s 2ms/step - loss: 0.4001 - accuracy: 0.8359\n",
            "Epoch 14/100\n",
            "800/800 [==============================] - 2s 2ms/step - loss: 0.3999 - accuracy: 0.8350\n",
            "Epoch 15/100\n",
            "800/800 [==============================] - 1s 2ms/step - loss: 0.3993 - accuracy: 0.8354\n",
            "Epoch 16/100\n",
            "800/800 [==============================] - 1s 2ms/step - loss: 0.3985 - accuracy: 0.8351\n",
            "Epoch 17/100\n",
            "800/800 [==============================] - 1s 973us/step - loss: 0.3983 - accuracy: 0.8357\n",
            "Epoch 18/100\n",
            "800/800 [==============================] - 1s 999us/step - loss: 0.3978 - accuracy: 0.8350\n",
            "Epoch 19/100\n",
            "800/800 [==============================] - 1s 1ms/step - loss: 0.3975 - accuracy: 0.8356\n",
            "Epoch 20/100\n",
            "800/800 [==============================] - 1s 1ms/step - loss: 0.3970 - accuracy: 0.8361\n",
            "Epoch 21/100\n",
            "800/800 [==============================] - 1s 977us/step - loss: 0.3970 - accuracy: 0.8353\n",
            "Epoch 22/100\n",
            "800/800 [==============================] - 1s 1ms/step - loss: 0.3968 - accuracy: 0.8371\n",
            "Epoch 23/100\n",
            "800/800 [==============================] - 1s 1ms/step - loss: 0.3963 - accuracy: 0.8364\n",
            "Epoch 24/100\n",
            "800/800 [==============================] - 1s 1ms/step - loss: 0.3954 - accuracy: 0.8369\n",
            "Epoch 25/100\n",
            "800/800 [==============================] - 1s 1ms/step - loss: 0.3960 - accuracy: 0.8360\n",
            "Epoch 26/100\n",
            "800/800 [==============================] - 1s 1ms/step - loss: 0.3959 - accuracy: 0.8366\n",
            "Epoch 27/100\n",
            "800/800 [==============================] - 1s 992us/step - loss: 0.3955 - accuracy: 0.8354\n",
            "Epoch 28/100\n",
            "800/800 [==============================] - 1s 1ms/step - loss: 0.3955 - accuracy: 0.8357\n",
            "Epoch 29/100\n",
            "800/800 [==============================] - 1s 1ms/step - loss: 0.3949 - accuracy: 0.8378\n",
            "Epoch 30/100\n",
            "800/800 [==============================] - 1s 1ms/step - loss: 0.3949 - accuracy: 0.8376\n",
            "Epoch 31/100\n",
            "800/800 [==============================] - 1s 1ms/step - loss: 0.3953 - accuracy: 0.8350\n",
            "Epoch 32/100\n",
            "800/800 [==============================] - 1s 1ms/step - loss: 0.3944 - accuracy: 0.8379\n",
            "Epoch 33/100\n",
            "800/800 [==============================] - 1s 1ms/step - loss: 0.3951 - accuracy: 0.8356\n",
            "Epoch 34/100\n",
            "800/800 [==============================] - 1s 1ms/step - loss: 0.3946 - accuracy: 0.8364\n",
            "Epoch 35/100\n",
            "800/800 [==============================] - 1s 991us/step - loss: 0.3942 - accuracy: 0.8371\n",
            "Epoch 36/100\n",
            "800/800 [==============================] - 1s 1ms/step - loss: 0.3941 - accuracy: 0.8375\n",
            "Epoch 37/100\n",
            "800/800 [==============================] - 1s 1ms/step - loss: 0.3942 - accuracy: 0.8394\n",
            "Epoch 38/100\n",
            "800/800 [==============================] - 1s 996us/step - loss: 0.3940 - accuracy: 0.8365\n",
            "Epoch 39/100\n",
            "800/800 [==============================] - 1s 1ms/step - loss: 0.3939 - accuracy: 0.8380\n",
            "Epoch 40/100\n",
            "800/800 [==============================] - 1s 1ms/step - loss: 0.3942 - accuracy: 0.8353\n",
            "Epoch 41/100\n",
            "800/800 [==============================] - 1s 1ms/step - loss: 0.3932 - accuracy: 0.8386\n",
            "Epoch 42/100\n",
            "800/800 [==============================] - 1s 1ms/step - loss: 0.3941 - accuracy: 0.8378\n",
            "Epoch 43/100\n",
            "800/800 [==============================] - 1s 990us/step - loss: 0.3937 - accuracy: 0.8372\n",
            "Epoch 44/100\n",
            "800/800 [==============================] - 1s 1ms/step - loss: 0.3937 - accuracy: 0.8371\n",
            "Epoch 45/100\n",
            "800/800 [==============================] - 1s 1ms/step - loss: 0.3931 - accuracy: 0.8382\n",
            "Epoch 46/100\n",
            "800/800 [==============================] - 1s 1ms/step - loss: 0.3937 - accuracy: 0.8382\n",
            "Epoch 47/100\n",
            "800/800 [==============================] - 1s 1ms/step - loss: 0.3937 - accuracy: 0.8388\n",
            "Epoch 48/100\n",
            "800/800 [==============================] - 1s 1ms/step - loss: 0.3925 - accuracy: 0.8385\n",
            "Epoch 49/100\n",
            "800/800 [==============================] - 1s 1ms/step - loss: 0.3925 - accuracy: 0.8388\n",
            "Epoch 50/100\n",
            "800/800 [==============================] - 1s 1ms/step - loss: 0.3924 - accuracy: 0.8376\n",
            "Epoch 51/100\n",
            "800/800 [==============================] - 1s 1ms/step - loss: 0.3921 - accuracy: 0.8388\n",
            "Epoch 52/100\n",
            "800/800 [==============================] - 1s 1ms/step - loss: 0.3921 - accuracy: 0.8399\n",
            "Epoch 53/100\n",
            "800/800 [==============================] - 1s 1ms/step - loss: 0.3916 - accuracy: 0.8394\n",
            "Epoch 54/100\n",
            "800/800 [==============================] - 1s 1ms/step - loss: 0.3912 - accuracy: 0.8390\n",
            "Epoch 55/100\n",
            "800/800 [==============================] - 1s 996us/step - loss: 0.3909 - accuracy: 0.8390\n",
            "Epoch 56/100\n",
            "800/800 [==============================] - 1s 1ms/step - loss: 0.3899 - accuracy: 0.8381\n",
            "Epoch 57/100\n",
            "800/800 [==============================] - 1s 1ms/step - loss: 0.3879 - accuracy: 0.8393\n",
            "Epoch 58/100\n",
            "800/800 [==============================] - 1s 979us/step - loss: 0.3858 - accuracy: 0.8390\n",
            "Epoch 59/100\n",
            "800/800 [==============================] - 1s 1ms/step - loss: 0.3827 - accuracy: 0.8390\n",
            "Epoch 60/100\n",
            "800/800 [==============================] - 1s 1ms/step - loss: 0.3778 - accuracy: 0.8432\n",
            "Epoch 61/100\n",
            "800/800 [==============================] - 1s 1ms/step - loss: 0.3730 - accuracy: 0.8428\n",
            "Epoch 62/100\n",
            "800/800 [==============================] - 1s 1ms/step - loss: 0.3689 - accuracy: 0.8476\n",
            "Epoch 63/100\n",
            "800/800 [==============================] - 1s 1ms/step - loss: 0.3647 - accuracy: 0.8487\n",
            "Epoch 64/100\n",
            "800/800 [==============================] - 1s 1ms/step - loss: 0.3622 - accuracy: 0.8478\n",
            "Epoch 65/100\n",
            "800/800 [==============================] - 1s 1ms/step - loss: 0.3584 - accuracy: 0.8516\n",
            "Epoch 66/100\n",
            "800/800 [==============================] - 1s 1ms/step - loss: 0.3563 - accuracy: 0.8553\n",
            "Epoch 67/100\n",
            "800/800 [==============================] - 1s 1ms/step - loss: 0.3546 - accuracy: 0.8575\n",
            "Epoch 68/100\n",
            "800/800 [==============================] - 1s 1ms/step - loss: 0.3537 - accuracy: 0.8575\n",
            "Epoch 69/100\n",
            "800/800 [==============================] - 1s 1ms/step - loss: 0.3528 - accuracy: 0.8605\n",
            "Epoch 70/100\n",
            "800/800 [==============================] - 1s 1ms/step - loss: 0.3513 - accuracy: 0.8593\n",
            "Epoch 71/100\n",
            "800/800 [==============================] - 1s 1ms/step - loss: 0.3505 - accuracy: 0.8610\n",
            "Epoch 72/100\n",
            "800/800 [==============================] - 1s 1ms/step - loss: 0.3501 - accuracy: 0.8626\n",
            "Epoch 73/100\n",
            "800/800 [==============================] - 1s 1ms/step - loss: 0.3497 - accuracy: 0.8620\n",
            "Epoch 74/100\n",
            "800/800 [==============================] - 1s 1ms/step - loss: 0.3486 - accuracy: 0.8610\n",
            "Epoch 75/100\n",
            "800/800 [==============================] - 1s 1ms/step - loss: 0.3482 - accuracy: 0.8618\n",
            "Epoch 76/100\n",
            "800/800 [==============================] - 1s 1ms/step - loss: 0.3478 - accuracy: 0.8626\n",
            "Epoch 77/100\n",
            "800/800 [==============================] - 1s 1ms/step - loss: 0.3480 - accuracy: 0.8620\n",
            "Epoch 78/100\n",
            "800/800 [==============================] - 1s 1ms/step - loss: 0.3468 - accuracy: 0.8627\n",
            "Epoch 79/100\n",
            "800/800 [==============================] - 1s 1ms/step - loss: 0.3470 - accuracy: 0.8624\n",
            "Epoch 80/100\n",
            "800/800 [==============================] - 1s 1ms/step - loss: 0.3464 - accuracy: 0.8635\n",
            "Epoch 81/100\n",
            "800/800 [==============================] - 1s 1ms/step - loss: 0.3459 - accuracy: 0.8600\n",
            "Epoch 82/100\n",
            "800/800 [==============================] - 1s 1ms/step - loss: 0.3457 - accuracy: 0.8616\n",
            "Epoch 83/100\n",
            "800/800 [==============================] - 1s 991us/step - loss: 0.3428 - accuracy: 0.8624\n",
            "Epoch 84/100\n",
            "800/800 [==============================] - 1s 1ms/step - loss: 0.3415 - accuracy: 0.8615\n",
            "Epoch 85/100\n",
            "800/800 [==============================] - 1s 1ms/step - loss: 0.3405 - accuracy: 0.8612\n",
            "Epoch 86/100\n",
            "800/800 [==============================] - 1s 1ms/step - loss: 0.3396 - accuracy: 0.8625\n",
            "Epoch 87/100\n",
            "800/800 [==============================] - 1s 990us/step - loss: 0.3392 - accuracy: 0.8636\n",
            "Epoch 88/100\n",
            "800/800 [==============================] - 1s 1ms/step - loss: 0.3388 - accuracy: 0.8605\n",
            "Epoch 89/100\n",
            "800/800 [==============================] - 1s 979us/step - loss: 0.3383 - accuracy: 0.8610\n",
            "Epoch 90/100\n",
            "800/800 [==============================] - 1s 1ms/step - loss: 0.3379 - accuracy: 0.8633\n",
            "Epoch 91/100\n",
            "800/800 [==============================] - 1s 1ms/step - loss: 0.3373 - accuracy: 0.8636\n",
            "Epoch 92/100\n",
            "800/800 [==============================] - 1s 1ms/step - loss: 0.3360 - accuracy: 0.8620\n",
            "Epoch 93/100\n",
            "800/800 [==============================] - 1s 1ms/step - loss: 0.3358 - accuracy: 0.8645\n",
            "Epoch 94/100\n",
            "800/800 [==============================] - 1s 1ms/step - loss: 0.3354 - accuracy: 0.8645\n",
            "Epoch 95/100\n",
            "800/800 [==============================] - 1s 1ms/step - loss: 0.3354 - accuracy: 0.8634\n",
            "Epoch 96/100\n",
            "800/800 [==============================] - 1s 996us/step - loss: 0.3350 - accuracy: 0.8634\n",
            "Epoch 97/100\n",
            "800/800 [==============================] - 1s 1ms/step - loss: 0.3338 - accuracy: 0.8620\n",
            "Epoch 98/100\n",
            "800/800 [==============================] - 1s 990us/step - loss: 0.3336 - accuracy: 0.8634\n",
            "Epoch 99/100\n",
            "800/800 [==============================] - 1s 994us/step - loss: 0.3340 - accuracy: 0.8644\n",
            "Epoch 100/100\n",
            "800/800 [==============================] - 1s 1ms/step - loss: 0.3341 - accuracy: 0.8630\n"
          ]
        },
        {
          "output_type": "execute_result",
          "data": {
            "text/plain": [
              "<keras.callbacks.History at 0x7f28567364d0>"
            ]
          },
          "metadata": {},
          "execution_count": 21
        }
      ],
      "source": [
        "classifier.fit(X_train, y_train, batch_size = 10, epochs = 100)"
      ]
    },
    {
      "cell_type": "markdown",
      "metadata": {
        "id": "gve2sOQO-feS"
      },
      "source": [
        "## Прогноз"
      ]
    },
    {
      "cell_type": "code",
      "execution_count": 22,
      "metadata": {
        "colab": {
          "base_uri": "https://localhost:8080/"
        },
        "id": "XoWJECOF-feS",
        "outputId": "a564be9b-81f8-4502-c4a8-d3d377906597"
      },
      "outputs": [
        {
          "output_type": "execute_result",
          "data": {
            "text/plain": [
              "array([[0.29684234],\n",
              "       [0.3148399 ],\n",
              "       [0.16455871],\n",
              "       ...,\n",
              "       [0.20737931],\n",
              "       [0.21227959],\n",
              "       [0.18492135]], dtype=float32)"
            ]
          },
          "metadata": {},
          "execution_count": 22
        }
      ],
      "source": [
        "y_pred = classifier.predict(X_test)\n",
        "y_pred"
      ]
    },
    {
      "cell_type": "code",
      "execution_count": 23,
      "metadata": {
        "colab": {
          "base_uri": "https://localhost:8080/"
        },
        "id": "7oNMtoey-feS",
        "outputId": "d77ec29c-f664-4406-d6af-26ad073e7bf6"
      },
      "outputs": [
        {
          "output_type": "execute_result",
          "data": {
            "text/plain": [
              "array([[False],\n",
              "       [False],\n",
              "       [False],\n",
              "       ...,\n",
              "       [False],\n",
              "       [False],\n",
              "       [False]])"
            ]
          },
          "metadata": {},
          "execution_count": 23
        }
      ],
      "source": [
        "y_pred = (y_pred > 0.5)\n",
        "y_pred"
      ]
    },
    {
      "cell_type": "markdown",
      "metadata": {
        "id": "hZBKq80E-feT"
      },
      "source": [
        "##  Матрица несоответствий"
      ]
    },
    {
      "cell_type": "code",
      "execution_count": 24,
      "metadata": {
        "colab": {
          "base_uri": "https://localhost:8080/"
        },
        "id": "NNo1qGre-feT",
        "outputId": "e0ff5f6a-3c76-4659-edc7-eed0a8d37c3f"
      },
      "outputs": [
        {
          "output_type": "execute_result",
          "data": {
            "text/plain": [
              "array([[1507,   88],\n",
              "       [ 188,  217]])"
            ]
          },
          "metadata": {},
          "execution_count": 24
        }
      ],
      "source": [
        "from sklearn.metrics import confusion_matrix\n",
        "cm = confusion_matrix(y_test, y_pred)\n",
        "cm"
      ]
    },
    {
      "cell_type": "markdown",
      "metadata": {
        "id": "G8_qRYMq-feT"
      },
      "source": [
        "## Прогноз для клиента с данными"
      ]
    },
    {
      "cell_type": "code",
      "execution_count": 25,
      "metadata": {
        "id": "WHE-OqJD-feT"
      },
      "outputs": [],
      "source": [
        "new_prediction = classifier.predict(sc.transform(np.array([[0.0,0,600,1,40,3,60000,2,1,1,50000]])))"
      ]
    },
    {
      "cell_type": "code",
      "execution_count": 26,
      "metadata": {
        "colab": {
          "base_uri": "https://localhost:8080/"
        },
        "id": "ztb_acoO-feT",
        "outputId": "a87668fd-9333-4e83-daa8-cb6bb319c4f4"
      },
      "outputs": [
        {
          "output_type": "execute_result",
          "data": {
            "text/plain": [
              "array([[0.03002116]], dtype=float32)"
            ]
          },
          "metadata": {},
          "execution_count": 26
        }
      ],
      "source": [
        "new_prediction"
      ]
    },
    {
      "cell_type": "code",
      "execution_count": 26,
      "metadata": {
        "id": "5_J4vd5I-feT"
      },
      "outputs": [],
      "source": [
        ""
      ]
    }
  ],
  "metadata": {
    "kernelspec": {
      "display_name": "Python 3",
      "language": "python",
      "name": "python3"
    },
    "language_info": {
      "codemirror_mode": {
        "name": "ipython",
        "version": 3
      },
      "file_extension": ".py",
      "mimetype": "text/x-python",
      "name": "python",
      "nbconvert_exporter": "python",
      "pygments_lexer": "ipython3",
      "version": "3.7.3"
    },
    "colab": {
      "name": "Neural Network.ipynb",
      "provenance": [],
      "include_colab_link": true
    }
  },
  "nbformat": 4,
  "nbformat_minor": 0
}